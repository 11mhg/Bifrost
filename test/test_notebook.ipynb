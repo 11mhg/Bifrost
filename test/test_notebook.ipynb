{
 "cells": [
  {
   "cell_type": "code",
   "execution_count": 2,
   "metadata": {},
   "outputs": [
    {
     "name": "stdout",
     "output_type": "stream",
     "text": [
      "The autoreload extension is already loaded. To reload it, use:\n",
      "  %reload_ext autoreload\n"
     ]
    }
   ],
   "source": [
    "%load_ext autoreload"
   ]
  },
  {
   "cell_type": "code",
   "execution_count": 3,
   "metadata": {},
   "outputs": [
    {
     "name": "stdout",
     "output_type": "stream",
     "text": [
      "Wrote to /home/mgasmallah/DCP/dcp-packages/Bifrost/test/package.json:\n",
      "\n",
      "{\n",
      "\"name\": \"test\",\n",
      "\"version\": \"1.0.0\",\n",
      "\"main\": \"index.js\",\n",
      "\"scripts\": {\n",
      "\"test\": \"echo \\\"Error: no test specified\\\" && exit 1\"\n",
      "},\n",
      "\"keywords\": [],\n",
      "\"author\": \"\",\n",
      "\"license\": \"ISC\",\n",
      "\"dependencies\": {},\n",
      "\"devDependencies\": {},\n",
      "\"description\": \"\"\n",
      "}\n",
      "\n",
      "\n",
      "\n",
      "> mmap.js@1.0.3 install /home/mgasmallah/DCP/dcp-packages/Bifrost/test/node_modules/mmap.js\n",
      "> node-gyp rebuild\n",
      "\n",
      "make: Entering directory '/home/mgasmallah/DCP/dcp-packages/Bifrost/test/node_modules/mmap.js/build'\n",
      "CXX(target) Release/obj.target/mmap/src/mmap.o\n",
      "SOLINK_MODULE(target) Release/obj.target/mmap.node\n",
      "COPY Release/mmap.node\n",
      "make: Leaving directory '/home/mgasmallah/DCP/dcp-packages/Bifrost/test/node_modules/mmap.js/build'\n",
      "\n",
      "> nodeshm@0.1.1 install /home/mgasmallah/DCP/dcp-packages/Bifrost/test/node_modules/nodeshm\n",
      "> node-gyp rebuild\n",
      "\n",
      "make: Entering directory '/home/mgasmallah/DCP/dcp-packages/Bifrost/test/node_modules/nodeshm/build'\n",
      "CXX(target) Release/obj.target/shm/shm.o\n",
      "SOLINK_MODULE(target) Release/obj.target/shm.node\n",
      "COPY Release/shm.node\n",
      "make: Leaving directory '/home/mgasmallah/DCP/dcp-packages/Bifrost/test/node_modules/nodeshm/build'\n",
      "\n",
      "> core-js@2.6.11 postinstall /home/mgasmallah/DCP/dcp-packages/Bifrost/test/node_modules/core-js\n",
      "> node -e \"try{require('./postinstall')}catch(e){}\"\n",
      "\n",
      "\u001b[96mThank you for using core-js (\u001b[94m https://github.com/zloirock/core-js \u001b[96m) for polyfilling JavaScript standard library!\u001b[0m\n",
      "\n",
      "\u001b[96mThe project needs your help! Please consider supporting of core-js on Open Collective or Patreon: \u001b[0m\n",
      "\u001b[96m>\u001b[94m https://opencollective.com/core-js \u001b[0m\n",
      "\u001b[96m>\u001b[94m https://www.patreon.com/zloirock \u001b[0m\n",
      "\n",
      "\u001b[96mAlso, the author of core-js (\u001b[94m https://github.com/zloirock \u001b[96m) is looking for a good job -)\u001b[0m\n",
      "\n",
      "+ nodeshm@0.1.1\n",
      "+ mmap.js@1.0.3\n",
      "+ npy-js@1.0.0\n",
      "added 175 packages from 200 contributors and audited 175 packages in 117.038s\n",
      "\n",
      "6 packages are looking for funding\n",
      "run `npm fund` for details\n",
      "\n",
      "found 0 vulnerabilities\n",
      "\n",
      "Memory map has been established\n",
      "\n",
      "> keccak@3.0.1 install /home/mgasmallah/DCP/dcp-packages/Bifrost/test/node_modules/keccak\n",
      "> node-gyp-build || exit 0\n",
      "\n",
      "\n",
      "> secp256k1@4.0.2 install /home/mgasmallah/DCP/dcp-packages/Bifrost/test/node_modules/secp256k1\n",
      "> node-gyp-build || exit 0\n",
      "\n",
      "\n",
      "> dcp-worker@1.1.1 postinstall /home/mgasmallah/DCP/dcp-packages/Bifrost/test/node_modules/dcp-worker\n",
      "> node generate-native-env-script\n",
      "\n",
      "Wrote native evaluator env file to native-evaluator-env.js\n",
      "+ dcp-client@3.2.2\n",
      "added 544 packages from 423 contributors and audited 721 packages in 20.21s\n",
      "\n",
      "18 packages are looking for funding\n",
      "run `npm fund` for details\n",
      "\n",
      "found 0 vulnerabilities\n",
      "\n"
     ]
    }
   ],
   "source": [
    "\n",
    "%autoreload 2\n",
    "import bifrost\n",
    "import numpy as np\n",
    "bifrost.npm.install('dcp-client')"
   ]
  },
  {
   "cell_type": "code",
   "execution_count": 4,
   "metadata": {},
   "outputs": [
    {
     "name": "stdout",
     "output_type": "stream",
     "text": [
      "[Errno 3] No such process\n",
      "Pipe broke and was restarted\n",
      "Could not run script\n"
     ]
    },
    {
     "ename": "AttributeError",
     "evalue": "'NoneType' object has no attribute 'keys'",
     "output_type": "error",
     "traceback": [
      "\u001b[0;31m---------------------------------------------------------------------------\u001b[0m",
      "\u001b[0;31mAttributeError\u001b[0m                            Traceback (most recent call last)",
      "\u001b[0;32m<ipython-input-4-9c9708d96577>\u001b[0m in \u001b[0;36m<module>\u001b[0;34m\u001b[0m\n\u001b[0;32m----> 1\u001b[0;31m \u001b[0mget_ipython\u001b[0m\u001b[0;34m(\u001b[0m\u001b[0;34m)\u001b[0m\u001b[0;34m.\u001b[0m\u001b[0mrun_cell_magic\u001b[0m\u001b[0;34m(\u001b[0m\u001b[0;34m'node'\u001b[0m\u001b[0;34m,\u001b[0m \u001b[0;34m''\u001b[0m\u001b[0;34m,\u001b[0m \u001b[0;34m'\\nconsole.log(\"Hello world\", typeof require);\\n'\u001b[0m\u001b[0;34m)\u001b[0m\u001b[0;34m\u001b[0m\u001b[0;34m\u001b[0m\u001b[0m\n\u001b[0m",
      "\u001b[0;32m~/anaconda3/envs/test/lib/python3.6/site-packages/IPython/core/interactiveshell.py\u001b[0m in \u001b[0;36mrun_cell_magic\u001b[0;34m(self, magic_name, line, cell)\u001b[0m\n\u001b[1;32m   2369\u001b[0m             \u001b[0;32mwith\u001b[0m \u001b[0mself\u001b[0m\u001b[0;34m.\u001b[0m\u001b[0mbuiltin_trap\u001b[0m\u001b[0;34m:\u001b[0m\u001b[0;34m\u001b[0m\u001b[0;34m\u001b[0m\u001b[0m\n\u001b[1;32m   2370\u001b[0m                 \u001b[0margs\u001b[0m \u001b[0;34m=\u001b[0m \u001b[0;34m(\u001b[0m\u001b[0mmagic_arg_s\u001b[0m\u001b[0;34m,\u001b[0m \u001b[0mcell\u001b[0m\u001b[0;34m)\u001b[0m\u001b[0;34m\u001b[0m\u001b[0;34m\u001b[0m\u001b[0m\n\u001b[0;32m-> 2371\u001b[0;31m                 \u001b[0mresult\u001b[0m \u001b[0;34m=\u001b[0m \u001b[0mfn\u001b[0m\u001b[0;34m(\u001b[0m\u001b[0;34m*\u001b[0m\u001b[0margs\u001b[0m\u001b[0;34m,\u001b[0m \u001b[0;34m**\u001b[0m\u001b[0mkwargs\u001b[0m\u001b[0;34m)\u001b[0m\u001b[0;34m\u001b[0m\u001b[0;34m\u001b[0m\u001b[0m\n\u001b[0m\u001b[1;32m   2372\u001b[0m             \u001b[0;32mreturn\u001b[0m \u001b[0mresult\u001b[0m\u001b[0;34m\u001b[0m\u001b[0;34m\u001b[0m\u001b[0m\n\u001b[1;32m   2373\u001b[0m \u001b[0;34m\u001b[0m\u001b[0m\n",
      "\u001b[0;32m<decorator-gen-158>\u001b[0m in \u001b[0;36mnode\u001b[0;34m(self, line, cell)\u001b[0m\n",
      "\u001b[0;32m~/anaconda3/envs/test/lib/python3.6/site-packages/IPython/core/magic.py\u001b[0m in \u001b[0;36m<lambda>\u001b[0;34m(f, *a, **k)\u001b[0m\n\u001b[1;32m    185\u001b[0m     \u001b[0;31m# but it's overkill for just that one bit of state.\u001b[0m\u001b[0;34m\u001b[0m\u001b[0;34m\u001b[0m\u001b[0;34m\u001b[0m\u001b[0m\n\u001b[1;32m    186\u001b[0m     \u001b[0;32mdef\u001b[0m \u001b[0mmagic_deco\u001b[0m\u001b[0;34m(\u001b[0m\u001b[0marg\u001b[0m\u001b[0;34m)\u001b[0m\u001b[0;34m:\u001b[0m\u001b[0;34m\u001b[0m\u001b[0;34m\u001b[0m\u001b[0m\n\u001b[0;32m--> 187\u001b[0;31m         \u001b[0mcall\u001b[0m \u001b[0;34m=\u001b[0m \u001b[0;32mlambda\u001b[0m \u001b[0mf\u001b[0m\u001b[0;34m,\u001b[0m \u001b[0;34m*\u001b[0m\u001b[0ma\u001b[0m\u001b[0;34m,\u001b[0m \u001b[0;34m**\u001b[0m\u001b[0mk\u001b[0m\u001b[0;34m:\u001b[0m \u001b[0mf\u001b[0m\u001b[0;34m(\u001b[0m\u001b[0;34m*\u001b[0m\u001b[0ma\u001b[0m\u001b[0;34m,\u001b[0m \u001b[0;34m**\u001b[0m\u001b[0mk\u001b[0m\u001b[0;34m)\u001b[0m\u001b[0;34m\u001b[0m\u001b[0;34m\u001b[0m\u001b[0m\n\u001b[0m\u001b[1;32m    188\u001b[0m \u001b[0;34m\u001b[0m\u001b[0m\n\u001b[1;32m    189\u001b[0m         \u001b[0;32mif\u001b[0m \u001b[0mcallable\u001b[0m\u001b[0;34m(\u001b[0m\u001b[0marg\u001b[0m\u001b[0;34m)\u001b[0m\u001b[0;34m:\u001b[0m\u001b[0;34m\u001b[0m\u001b[0;34m\u001b[0m\u001b[0m\n",
      "\u001b[0;32m~/anaconda3/envs/test/lib/python3.6/site-packages/bifrost/notebook.py\u001b[0m in \u001b[0;36mnode\u001b[0;34m(self, line, cell)\u001b[0m\n\u001b[1;32m     22\u001b[0m         \u001b[0mvars_to_sync\u001b[0m \u001b[0;34m=\u001b[0m \u001b[0mself\u001b[0m\u001b[0;34m.\u001b[0m\u001b[0m_node\u001b[0m\u001b[0;34m.\u001b[0m\u001b[0mrun\u001b[0m\u001b[0;34m(\u001b[0m\u001b[0mcell\u001b[0m\u001b[0;34m,\u001b[0m \u001b[0mvars\u001b[0m \u001b[0;34m=\u001b[0m \u001b[0mvars_to_sync\u001b[0m\u001b[0;34m)\u001b[0m\u001b[0;34m\u001b[0m\u001b[0;34m\u001b[0m\u001b[0m\n\u001b[1;32m     23\u001b[0m \u001b[0;34m\u001b[0m\u001b[0m\n\u001b[0;32m---> 24\u001b[0;31m         \u001b[0;32mfor\u001b[0m \u001b[0mkey\u001b[0m \u001b[0;32min\u001b[0m \u001b[0mvars_to_sync\u001b[0m\u001b[0;34m.\u001b[0m\u001b[0mkeys\u001b[0m\u001b[0;34m(\u001b[0m\u001b[0;34m)\u001b[0m\u001b[0;34m:\u001b[0m\u001b[0;34m\u001b[0m\u001b[0;34m\u001b[0m\u001b[0m\n\u001b[0m\u001b[1;32m     25\u001b[0m             \u001b[0mself\u001b[0m\u001b[0;34m.\u001b[0m\u001b[0mshell\u001b[0m\u001b[0;34m.\u001b[0m\u001b[0muser_ns\u001b[0m\u001b[0;34m[\u001b[0m\u001b[0mkey\u001b[0m\u001b[0;34m]\u001b[0m \u001b[0;34m=\u001b[0m \u001b[0mvars_to_sync\u001b[0m\u001b[0;34m[\u001b[0m\u001b[0mkey\u001b[0m\u001b[0;34m]\u001b[0m\u001b[0;34m\u001b[0m\u001b[0;34m\u001b[0m\u001b[0m\n\u001b[1;32m     26\u001b[0m         \u001b[0;32mreturn\u001b[0m\u001b[0;34m\u001b[0m\u001b[0;34m\u001b[0m\u001b[0m\n",
      "\u001b[0;31mAttributeError\u001b[0m: 'NoneType' object has no attribute 'keys'"
     ]
    }
   ],
   "source": [
    "%%node\n",
    "\n",
    "console.log(\"Hello world\", typeof require);"
   ]
  },
  {
   "cell_type": "code",
   "execution_count": 4,
   "metadata": {},
   "outputs": [],
   "source": [
    "a = np.ones([60000,28,28,1])"
   ]
  },
  {
   "cell_type": "code",
   "execution_count": 5,
   "metadata": {},
   "outputs": [
    {
     "name": "stdout",
     "output_type": "stream",
     "text": [
      "syncing to took: 3.204209089279175 seconds\n",
      "JS: Reading JSON took:  1.215\n",
      "[ 60000, 28, 28, 1 ]\n",
      "Execution took: 20.350289583206177 seconds\n",
      "Syncing from took: 2.5781798362731934 seconds\n"
     ]
    }
   ],
   "source": [
    "%%node\n",
    "\n",
    "console.log(a.shape);"
   ]
  },
  {
   "cell_type": "code",
   "execution_count": 8,
   "metadata": {},
   "outputs": [],
   "source": [
    "import bifrost"
   ]
  },
  {
   "cell_type": "code",
   "execution_count": null,
   "metadata": {},
   "outputs": [],
   "source": []
  }
 ],
 "metadata": {
  "kernelspec": {
   "display_name": "Python 3",
   "language": "python",
   "name": "python3"
  },
  "language_info": {
   "codemirror_mode": {
    "name": "ipython",
    "version": 3
   },
   "file_extension": ".py",
   "mimetype": "text/x-python",
   "name": "python",
   "nbconvert_exporter": "python",
   "pygments_lexer": "ipython3",
   "version": "3.6.10"
  }
 },
 "nbformat": 4,
 "nbformat_minor": 4
}
