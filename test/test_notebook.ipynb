{
 "cells": [
  {
   "cell_type": "code",
   "execution_count": 1,
   "metadata": {},
   "outputs": [],
   "source": [
    "%load_ext autoreload"
   ]
  },
  {
   "cell_type": "code",
   "execution_count": 2,
   "metadata": {},
   "outputs": [
    {
     "name": "stdout",
     "output_type": "stream",
     "text": [
      "Memory map has been established\n",
      "Beginning Node Process\n",
      "VM context has been prepared.\n",
      "+ dcp-client@3.2.2\n",
      "updated 1 package and audited 721 packages in 15.501s\n",
      "\n",
      "6 packages are looking for funding\n",
      "run `npm fund` for details\n",
      "\n",
      "found 0 vulnerabilities\n",
      "\n"
     ]
    }
   ],
   "source": [
    "\n",
    "%autoreload 2\n",
    "import bifrost\n",
    "import numpy as np\n",
    "bifrost.npm.install('dcp-client')"
   ]
  },
  {
   "cell_type": "code",
   "execution_count": 4,
   "metadata": {},
   "outputs": [
    {
     "name": "stdout",
     "output_type": "stream",
     "text": [
      "{ debug: false,\n",
      "justFetchPrettyError: [Function: dcpClient$$justFetchPrettyError],\n",
      "init: [AsyncFunction: dcpClient$$init],\n",
      "initcb: [Function],\n",
      "_initForTestHarness: [Function: dcpClient$$_initForTestHarness],\n",
      "initSync: [Function: dcpClient$$initSync] }\n",
      "Hello world function\n"
     ]
    }
   ],
   "source": [
    "%%node\n",
    "console.log(\"Hello world\", typeof require);"
   ]
  },
  {
   "cell_type": "code",
   "execution_count": 4,
   "metadata": {},
   "outputs": [],
   "source": [
    "a = np.ones([60000,28,28,1])"
   ]
  },
  {
   "cell_type": "code",
   "execution_count": 5,
   "metadata": {},
   "outputs": [
    {
     "name": "stdout",
     "output_type": "stream",
     "text": [
      "syncing to took: 3.204209089279175 seconds\n",
      "JS: Reading JSON took:  1.215\n",
      "[ 60000, 28, 28, 1 ]\n",
      "Execution took: 20.350289583206177 seconds\n",
      "Syncing from took: 2.5781798362731934 seconds\n"
     ]
    }
   ],
   "source": [
    "%%node\n",
    "\n",
    "console.log(a.shape);"
   ]
  },
  {
   "cell_type": "code",
   "execution_count": 8,
   "metadata": {},
   "outputs": [],
   "source": [
    "import bifrost"
   ]
  },
  {
   "cell_type": "code",
   "execution_count": null,
   "metadata": {},
   "outputs": [],
   "source": []
  }
 ],
 "metadata": {
  "kernelspec": {
   "display_name": "Python 3",
   "language": "python",
   "name": "python3"
  },
  "language_info": {
   "codemirror_mode": {
    "name": "ipython",
    "version": 3
   },
   "file_extension": ".py",
   "mimetype": "text/x-python",
   "name": "python",
   "nbconvert_exporter": "python",
   "pygments_lexer": "ipython3",
   "version": "3.6.10"
  }
 },
 "nbformat": 4,
 "nbformat_minor": 4
}
